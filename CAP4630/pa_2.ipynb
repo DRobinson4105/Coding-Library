{
 "cells": [
  {
   "cell_type": "markdown",
   "id": "c00bf530",
   "metadata": {},
   "source": [
    "# Project 1: Regression\n",
    "\n",
    "This project asks you to perform various experiments with regression. The dataset we are using is taken from a real estate dataset:\n",
    "\n",
    "https://www.kaggle.com/datasets/mirbektoktogaraev/madrid-real-estate-market\n",
    "\n",
    "The objective of this project is to become familiar with the underlying techniques of machine learning, and implement some of the techniques yourself. \n",
    "\n",
    "You will write code and discussion texts into code and text cells in this notebook. \n",
    "\n",
    "If a block starts with TODO:, this means that you need to write something there. \n",
    "\n",
    "Some code had been written for you to guide the project. Don't change the already written code.\n",
    "\n",
    "\n"
   ]
  },
  {
   "cell_type": "code",
   "execution_count": 25,
   "id": "a440a191",
   "metadata": {},
   "outputs": [],
   "source": [
    "import pandas as pd\n",
    "import numpy as np\n",
    "import scipy as sp\n",
    "import sklearn as sk\n",
    "import time\n",
    "from sklearn.metrics import root_mean_squared_error\n",
    "from sklearn.linear_model import LinearRegression\n",
    "from sklearn.model_selection import train_test_split"
   ]
  },
  {
   "cell_type": "markdown",
   "id": "691d1a9f",
   "metadata": {},
   "source": [
    "## Setup for  the project\n",
    "\n",
    "For problems P1 to P5 we are using a simple dataset where we extract one \n",
    "explanatory variable ``sq_mt_built`` to predict the price of the house ``buy_price``"
   ]
  },
  {
   "cell_type": "code",
   "execution_count": 26,
   "id": "902ccefe",
   "metadata": {},
   "outputs": [
    {
     "name": "stdout",
     "output_type": "stream",
     "text": [
      "The length 21742\n",
      "The columns of the database Index(['Unnamed: 0', 'id', 'title', 'subtitle', 'sq_mt_built', 'sq_mt_useful',\n",
      "       'n_rooms', 'n_bathrooms', 'n_floors', 'sq_mt_allotment', 'latitude',\n",
      "       'longitude', 'raw_address', 'is_exact_address_hidden', 'street_name',\n",
      "       'street_number', 'portal', 'floor', 'is_floor_under', 'door',\n",
      "       'neighborhood_id', 'operation', 'rent_price', 'rent_price_by_area',\n",
      "       'is_rent_price_known', 'buy_price', 'buy_price_by_area',\n",
      "       'is_buy_price_known', 'house_type_id', 'is_renewal_needed',\n",
      "       'is_new_development', 'built_year', 'has_central_heating',\n",
      "       'has_individual_heating', 'are_pets_allowed', 'has_ac',\n",
      "       'has_fitted_wardrobes', 'has_lift', 'is_exterior', 'has_garden',\n",
      "       'has_pool', 'has_terrace', 'has_balcony', 'has_storage_room',\n",
      "       'is_furnished', 'is_kitchen_equipped', 'is_accessible',\n",
      "       'has_green_zones', 'energy_certificate', 'has_parking',\n",
      "       'has_private_parking', 'has_public_parking',\n",
      "       'is_parking_included_in_price', 'parking_price', 'is_orientation_north',\n",
      "       'is_orientation_west', 'is_orientation_south', 'is_orientation_east'],\n",
      "      dtype='object')\n"
     ]
    },
    {
     "ename": "KeyboardInterrupt",
     "evalue": "",
     "output_type": "error",
     "traceback": [
      "\u001b[1;31m---------------------------------------------------------------------------\u001b[0m",
      "\u001b[1;31mKeyboardInterrupt\u001b[0m                         Traceback (most recent call last)",
      "Cell \u001b[1;32mIn[26], line 4\u001b[0m\n\u001b[0;32m      2\u001b[0m \u001b[38;5;28mprint\u001b[39m(\u001b[38;5;124mf\u001b[39m\u001b[38;5;124m\"\u001b[39m\u001b[38;5;124mThe length \u001b[39m\u001b[38;5;132;01m{\u001b[39;00m\u001b[38;5;28mlen\u001b[39m(df\u001b[38;5;241m.\u001b[39mindex)\u001b[38;5;132;01m}\u001b[39;00m\u001b[38;5;124m\"\u001b[39m)\n\u001b[0;32m      3\u001b[0m \u001b[38;5;28mprint\u001b[39m(\u001b[38;5;124mf\u001b[39m\u001b[38;5;124m\"\u001b[39m\u001b[38;5;124mThe columns of the database \u001b[39m\u001b[38;5;132;01m{\u001b[39;00mdf\u001b[38;5;241m.\u001b[39mcolumns\u001b[38;5;132;01m}\u001b[39;00m\u001b[38;5;124m\"\u001b[39m)\n\u001b[1;32m----> 4\u001b[0m \u001b[43mdf\u001b[49m\u001b[43m[\u001b[49m\u001b[43m[\u001b[49m\u001b[38;5;124;43m\"\u001b[39;49m\u001b[38;5;124;43msq_mt_built\u001b[39;49m\u001b[38;5;124;43m\"\u001b[39;49m\u001b[43m,\u001b[49m\u001b[43m \u001b[49m\u001b[38;5;124;43m\"\u001b[39;49m\u001b[38;5;124;43mbuy_price\u001b[39;49m\u001b[38;5;124;43m\"\u001b[39;49m\u001b[43m]\u001b[49m\u001b[43m]\u001b[49m\u001b[38;5;241m.\u001b[39mplot\u001b[38;5;241m.\u001b[39mscatter(x\u001b[38;5;241m=\u001b[39m\u001b[38;5;124m\"\u001b[39m\u001b[38;5;124msq_mt_built\u001b[39m\u001b[38;5;124m\"\u001b[39m, y\u001b[38;5;241m=\u001b[39m\u001b[38;5;124m\"\u001b[39m\u001b[38;5;124mbuy_price\u001b[39m\u001b[38;5;124m\"\u001b[39m)\n\u001b[0;32m      5\u001b[0m df \u001b[38;5;241m=\u001b[39m df[[\u001b[38;5;124m\"\u001b[39m\u001b[38;5;124msq_mt_built\u001b[39m\u001b[38;5;124m\"\u001b[39m, \u001b[38;5;124m\"\u001b[39m\u001b[38;5;124mbuy_price\u001b[39m\u001b[38;5;124m\"\u001b[39m]]\u001b[38;5;241m.\u001b[39mfillna(\u001b[38;5;28;01mFalse\u001b[39;00m)\n\u001b[0;32m      6\u001b[0m \u001b[38;5;66;03m## FIXME: add here the creation of the training data and test data\u001b[39;00m\n\u001b[0;32m      7\u001b[0m \n\u001b[0;32m      8\u001b[0m \u001b[38;5;66;03m# the training and test data was already implemented in the next cell but im guessing you meant use a train_test_split()\u001b[39;00m\n",
      "File \u001b[1;32m~\\AppData\\Roaming\\Python\\Python312\\site-packages\\pandas\\core\\frame.py:4117\u001b[0m, in \u001b[0;36mDataFrame.__getitem__\u001b[1;34m(self, key)\u001b[0m\n\u001b[0;32m   4114\u001b[0m \u001b[38;5;28;01mif\u001b[39;00m \u001b[38;5;28misinstance\u001b[39m(indexer, \u001b[38;5;28mslice\u001b[39m):\n\u001b[0;32m   4115\u001b[0m     \u001b[38;5;28;01mreturn\u001b[39;00m \u001b[38;5;28mself\u001b[39m\u001b[38;5;241m.\u001b[39m_slice(indexer, axis\u001b[38;5;241m=\u001b[39m\u001b[38;5;241m1\u001b[39m)\n\u001b[1;32m-> 4117\u001b[0m data \u001b[38;5;241m=\u001b[39m \u001b[38;5;28;43mself\u001b[39;49m\u001b[38;5;241;43m.\u001b[39;49m\u001b[43m_take_with_is_copy\u001b[49m\u001b[43m(\u001b[49m\u001b[43mindexer\u001b[49m\u001b[43m,\u001b[49m\u001b[43m \u001b[49m\u001b[43maxis\u001b[49m\u001b[38;5;241;43m=\u001b[39;49m\u001b[38;5;241;43m1\u001b[39;49m\u001b[43m)\u001b[49m\n\u001b[0;32m   4119\u001b[0m \u001b[38;5;28;01mif\u001b[39;00m is_single_key:\n\u001b[0;32m   4120\u001b[0m     \u001b[38;5;66;03m# What does looking for a single key in a non-unique index return?\u001b[39;00m\n\u001b[0;32m   4121\u001b[0m     \u001b[38;5;66;03m# The behavior is inconsistent. It returns a Series, except when\u001b[39;00m\n\u001b[0;32m   4122\u001b[0m     \u001b[38;5;66;03m# - the key itself is repeated (test on data.shape, #9519), or\u001b[39;00m\n\u001b[0;32m   4123\u001b[0m     \u001b[38;5;66;03m# - we have a MultiIndex on columns (test on self.columns, #21309)\u001b[39;00m\n\u001b[0;32m   4124\u001b[0m     \u001b[38;5;28;01mif\u001b[39;00m data\u001b[38;5;241m.\u001b[39mshape[\u001b[38;5;241m1\u001b[39m] \u001b[38;5;241m==\u001b[39m \u001b[38;5;241m1\u001b[39m \u001b[38;5;129;01mand\u001b[39;00m \u001b[38;5;129;01mnot\u001b[39;00m \u001b[38;5;28misinstance\u001b[39m(\u001b[38;5;28mself\u001b[39m\u001b[38;5;241m.\u001b[39mcolumns, MultiIndex):\n\u001b[0;32m   4125\u001b[0m         \u001b[38;5;66;03m# GH#26490 using data[key] can cause RecursionError\u001b[39;00m\n",
      "File \u001b[1;32m~\\AppData\\Roaming\\Python\\Python312\\site-packages\\pandas\\core\\generic.py:4153\u001b[0m, in \u001b[0;36mNDFrame._take_with_is_copy\u001b[1;34m(self, indices, axis)\u001b[0m\n\u001b[0;32m   4142\u001b[0m \u001b[38;5;129m@final\u001b[39m\n\u001b[0;32m   4143\u001b[0m \u001b[38;5;28;01mdef\u001b[39;00m \u001b[38;5;21m_take_with_is_copy\u001b[39m(\u001b[38;5;28mself\u001b[39m, indices, axis: Axis \u001b[38;5;241m=\u001b[39m \u001b[38;5;241m0\u001b[39m) \u001b[38;5;241m-\u001b[39m\u001b[38;5;241m>\u001b[39m Self:\n\u001b[0;32m   4144\u001b[0m \u001b[38;5;250m    \u001b[39m\u001b[38;5;124;03m\"\"\"\u001b[39;00m\n\u001b[0;32m   4145\u001b[0m \u001b[38;5;124;03m    Internal version of the `take` method that sets the `_is_copy`\u001b[39;00m\n\u001b[0;32m   4146\u001b[0m \u001b[38;5;124;03m    attribute to keep track of the parent dataframe (using in indexing\u001b[39;00m\n\u001b[1;32m   (...)\u001b[0m\n\u001b[0;32m   4151\u001b[0m \u001b[38;5;124;03m    See the docstring of `take` for full explanation of the parameters.\u001b[39;00m\n\u001b[0;32m   4152\u001b[0m \u001b[38;5;124;03m    \"\"\"\u001b[39;00m\n\u001b[1;32m-> 4153\u001b[0m     result \u001b[38;5;241m=\u001b[39m \u001b[38;5;28;43mself\u001b[39;49m\u001b[38;5;241;43m.\u001b[39;49m\u001b[43mtake\u001b[49m\u001b[43m(\u001b[49m\u001b[43mindices\u001b[49m\u001b[38;5;241;43m=\u001b[39;49m\u001b[43mindices\u001b[49m\u001b[43m,\u001b[49m\u001b[43m \u001b[49m\u001b[43maxis\u001b[49m\u001b[38;5;241;43m=\u001b[39;49m\u001b[43maxis\u001b[49m\u001b[43m)\u001b[49m\n\u001b[0;32m   4154\u001b[0m     \u001b[38;5;66;03m# Maybe set copy if we didn't actually change the index.\u001b[39;00m\n\u001b[0;32m   4155\u001b[0m     \u001b[38;5;28;01mif\u001b[39;00m \u001b[38;5;28mself\u001b[39m\u001b[38;5;241m.\u001b[39mndim \u001b[38;5;241m==\u001b[39m \u001b[38;5;241m2\u001b[39m \u001b[38;5;129;01mand\u001b[39;00m \u001b[38;5;129;01mnot\u001b[39;00m result\u001b[38;5;241m.\u001b[39m_get_axis(axis)\u001b[38;5;241m.\u001b[39mequals(\u001b[38;5;28mself\u001b[39m\u001b[38;5;241m.\u001b[39m_get_axis(axis)):\n",
      "File \u001b[1;32m~\\AppData\\Roaming\\Python\\Python312\\site-packages\\pandas\\core\\generic.py:4133\u001b[0m, in \u001b[0;36mNDFrame.take\u001b[1;34m(self, indices, axis, **kwargs)\u001b[0m\n\u001b[0;32m   4128\u001b[0m     \u001b[38;5;66;03m# We can get here with a slice via DataFrame.__getitem__\u001b[39;00m\n\u001b[0;32m   4129\u001b[0m     indices \u001b[38;5;241m=\u001b[39m np\u001b[38;5;241m.\u001b[39marange(\n\u001b[0;32m   4130\u001b[0m         indices\u001b[38;5;241m.\u001b[39mstart, indices\u001b[38;5;241m.\u001b[39mstop, indices\u001b[38;5;241m.\u001b[39mstep, dtype\u001b[38;5;241m=\u001b[39mnp\u001b[38;5;241m.\u001b[39mintp\n\u001b[0;32m   4131\u001b[0m     )\n\u001b[1;32m-> 4133\u001b[0m new_data \u001b[38;5;241m=\u001b[39m \u001b[38;5;28;43mself\u001b[39;49m\u001b[38;5;241;43m.\u001b[39;49m\u001b[43m_mgr\u001b[49m\u001b[38;5;241;43m.\u001b[39;49m\u001b[43mtake\u001b[49m\u001b[43m(\u001b[49m\n\u001b[0;32m   4134\u001b[0m \u001b[43m    \u001b[49m\u001b[43mindices\u001b[49m\u001b[43m,\u001b[49m\n\u001b[0;32m   4135\u001b[0m \u001b[43m    \u001b[49m\u001b[43maxis\u001b[49m\u001b[38;5;241;43m=\u001b[39;49m\u001b[38;5;28;43mself\u001b[39;49m\u001b[38;5;241;43m.\u001b[39;49m\u001b[43m_get_block_manager_axis\u001b[49m\u001b[43m(\u001b[49m\u001b[43maxis\u001b[49m\u001b[43m)\u001b[49m\u001b[43m,\u001b[49m\n\u001b[0;32m   4136\u001b[0m \u001b[43m    \u001b[49m\u001b[43mverify\u001b[49m\u001b[38;5;241;43m=\u001b[39;49m\u001b[38;5;28;43;01mTrue\u001b[39;49;00m\u001b[43m,\u001b[49m\n\u001b[0;32m   4137\u001b[0m \u001b[43m\u001b[49m\u001b[43m)\u001b[49m\n\u001b[0;32m   4138\u001b[0m \u001b[38;5;28;01mreturn\u001b[39;00m \u001b[38;5;28mself\u001b[39m\u001b[38;5;241m.\u001b[39m_constructor_from_mgr(new_data, axes\u001b[38;5;241m=\u001b[39mnew_data\u001b[38;5;241m.\u001b[39maxes)\u001b[38;5;241m.\u001b[39m__finalize__(\n\u001b[0;32m   4139\u001b[0m     \u001b[38;5;28mself\u001b[39m, method\u001b[38;5;241m=\u001b[39m\u001b[38;5;124m\"\u001b[39m\u001b[38;5;124mtake\u001b[39m\u001b[38;5;124m\"\u001b[39m\n\u001b[0;32m   4140\u001b[0m )\n",
      "File \u001b[1;32m~\\AppData\\Roaming\\Python\\Python312\\site-packages\\pandas\\core\\internals\\managers.py:894\u001b[0m, in \u001b[0;36mBaseBlockManager.take\u001b[1;34m(self, indexer, axis, verify)\u001b[0m\n\u001b[0;32m    891\u001b[0m indexer \u001b[38;5;241m=\u001b[39m maybe_convert_indices(indexer, n, verify\u001b[38;5;241m=\u001b[39mverify)\n\u001b[0;32m    893\u001b[0m new_labels \u001b[38;5;241m=\u001b[39m \u001b[38;5;28mself\u001b[39m\u001b[38;5;241m.\u001b[39maxes[axis]\u001b[38;5;241m.\u001b[39mtake(indexer)\n\u001b[1;32m--> 894\u001b[0m \u001b[38;5;28;01mreturn\u001b[39;00m \u001b[38;5;28;43mself\u001b[39;49m\u001b[38;5;241;43m.\u001b[39;49m\u001b[43mreindex_indexer\u001b[49m\u001b[43m(\u001b[49m\n\u001b[0;32m    895\u001b[0m \u001b[43m    \u001b[49m\u001b[43mnew_axis\u001b[49m\u001b[38;5;241;43m=\u001b[39;49m\u001b[43mnew_labels\u001b[49m\u001b[43m,\u001b[49m\n\u001b[0;32m    896\u001b[0m \u001b[43m    \u001b[49m\u001b[43mindexer\u001b[49m\u001b[38;5;241;43m=\u001b[39;49m\u001b[43mindexer\u001b[49m\u001b[43m,\u001b[49m\n\u001b[0;32m    897\u001b[0m \u001b[43m    \u001b[49m\u001b[43maxis\u001b[49m\u001b[38;5;241;43m=\u001b[39;49m\u001b[43maxis\u001b[49m\u001b[43m,\u001b[49m\n\u001b[0;32m    898\u001b[0m \u001b[43m    \u001b[49m\u001b[43mallow_dups\u001b[49m\u001b[38;5;241;43m=\u001b[39;49m\u001b[38;5;28;43;01mTrue\u001b[39;49;00m\u001b[43m,\u001b[49m\n\u001b[0;32m    899\u001b[0m \u001b[43m    \u001b[49m\u001b[43mcopy\u001b[49m\u001b[38;5;241;43m=\u001b[39;49m\u001b[38;5;28;43;01mNone\u001b[39;49;00m\u001b[43m,\u001b[49m\n\u001b[0;32m    900\u001b[0m \u001b[43m\u001b[49m\u001b[43m)\u001b[49m\n",
      "File \u001b[1;32m~\\AppData\\Roaming\\Python\\Python312\\site-packages\\pandas\\core\\internals\\managers.py:680\u001b[0m, in \u001b[0;36mBaseBlockManager.reindex_indexer\u001b[1;34m(self, new_axis, indexer, axis, fill_value, allow_dups, copy, only_slice, use_na_proxy)\u001b[0m\n\u001b[0;32m    677\u001b[0m     \u001b[38;5;28;01mraise\u001b[39;00m \u001b[38;5;167;01mIndexError\u001b[39;00m(\u001b[38;5;124m\"\u001b[39m\u001b[38;5;124mRequested axis not found in manager\u001b[39m\u001b[38;5;124m\"\u001b[39m)\n\u001b[0;32m    679\u001b[0m \u001b[38;5;28;01mif\u001b[39;00m axis \u001b[38;5;241m==\u001b[39m \u001b[38;5;241m0\u001b[39m:\n\u001b[1;32m--> 680\u001b[0m     new_blocks \u001b[38;5;241m=\u001b[39m \u001b[38;5;28;43mself\u001b[39;49m\u001b[38;5;241;43m.\u001b[39;49m\u001b[43m_slice_take_blocks_ax0\u001b[49m\u001b[43m(\u001b[49m\n\u001b[0;32m    681\u001b[0m \u001b[43m        \u001b[49m\u001b[43mindexer\u001b[49m\u001b[43m,\u001b[49m\n\u001b[0;32m    682\u001b[0m \u001b[43m        \u001b[49m\u001b[43mfill_value\u001b[49m\u001b[38;5;241;43m=\u001b[39;49m\u001b[43mfill_value\u001b[49m\u001b[43m,\u001b[49m\n\u001b[0;32m    683\u001b[0m \u001b[43m        \u001b[49m\u001b[43monly_slice\u001b[49m\u001b[38;5;241;43m=\u001b[39;49m\u001b[43monly_slice\u001b[49m\u001b[43m,\u001b[49m\n\u001b[0;32m    684\u001b[0m \u001b[43m        \u001b[49m\u001b[43muse_na_proxy\u001b[49m\u001b[38;5;241;43m=\u001b[39;49m\u001b[43muse_na_proxy\u001b[49m\u001b[43m,\u001b[49m\n\u001b[0;32m    685\u001b[0m \u001b[43m    \u001b[49m\u001b[43m)\u001b[49m\n\u001b[0;32m    686\u001b[0m \u001b[38;5;28;01melse\u001b[39;00m:\n\u001b[0;32m    687\u001b[0m     new_blocks \u001b[38;5;241m=\u001b[39m [\n\u001b[0;32m    688\u001b[0m         blk\u001b[38;5;241m.\u001b[39mtake_nd(\n\u001b[0;32m    689\u001b[0m             indexer,\n\u001b[1;32m   (...)\u001b[0m\n\u001b[0;32m    695\u001b[0m         \u001b[38;5;28;01mfor\u001b[39;00m blk \u001b[38;5;129;01min\u001b[39;00m \u001b[38;5;28mself\u001b[39m\u001b[38;5;241m.\u001b[39mblocks\n\u001b[0;32m    696\u001b[0m     ]\n",
      "File \u001b[1;32m~\\AppData\\Roaming\\Python\\Python312\\site-packages\\pandas\\core\\internals\\managers.py:843\u001b[0m, in \u001b[0;36mBaseBlockManager._slice_take_blocks_ax0\u001b[1;34m(self, slice_or_indexer, fill_value, only_slice, use_na_proxy, ref_inplace_op)\u001b[0m\n\u001b[0;32m    841\u001b[0m                     blocks\u001b[38;5;241m.\u001b[39mappend(nb)\n\u001b[0;32m    842\u001b[0m             \u001b[38;5;28;01melse\u001b[39;00m:\n\u001b[1;32m--> 843\u001b[0m                 nb \u001b[38;5;241m=\u001b[39m \u001b[43mblk\u001b[49m\u001b[38;5;241;43m.\u001b[39;49m\u001b[43mtake_nd\u001b[49m\u001b[43m(\u001b[49m\u001b[43mtaker\u001b[49m\u001b[43m,\u001b[49m\u001b[43m \u001b[49m\u001b[43maxis\u001b[49m\u001b[38;5;241;43m=\u001b[39;49m\u001b[38;5;241;43m0\u001b[39;49m\u001b[43m,\u001b[49m\u001b[43m \u001b[49m\u001b[43mnew_mgr_locs\u001b[49m\u001b[38;5;241;43m=\u001b[39;49m\u001b[43mmgr_locs\u001b[49m\u001b[43m)\u001b[49m\n\u001b[0;32m    844\u001b[0m                 blocks\u001b[38;5;241m.\u001b[39mappend(nb)\n\u001b[0;32m    846\u001b[0m \u001b[38;5;28;01mreturn\u001b[39;00m blocks\n",
      "File \u001b[1;32m~\\AppData\\Roaming\\Python\\Python312\\site-packages\\pandas\\core\\internals\\blocks.py:1307\u001b[0m, in \u001b[0;36mBlock.take_nd\u001b[1;34m(self, indexer, axis, new_mgr_locs, fill_value)\u001b[0m\n\u001b[0;32m   1304\u001b[0m     allow_fill \u001b[38;5;241m=\u001b[39m \u001b[38;5;28;01mTrue\u001b[39;00m\n\u001b[0;32m   1306\u001b[0m \u001b[38;5;66;03m# Note: algos.take_nd has upcast logic similar to coerce_to_target_dtype\u001b[39;00m\n\u001b[1;32m-> 1307\u001b[0m new_values \u001b[38;5;241m=\u001b[39m \u001b[43malgos\u001b[49m\u001b[38;5;241;43m.\u001b[39;49m\u001b[43mtake_nd\u001b[49m\u001b[43m(\u001b[49m\n\u001b[0;32m   1308\u001b[0m \u001b[43m    \u001b[49m\u001b[43mvalues\u001b[49m\u001b[43m,\u001b[49m\u001b[43m \u001b[49m\u001b[43mindexer\u001b[49m\u001b[43m,\u001b[49m\u001b[43m \u001b[49m\u001b[43maxis\u001b[49m\u001b[38;5;241;43m=\u001b[39;49m\u001b[43maxis\u001b[49m\u001b[43m,\u001b[49m\u001b[43m \u001b[49m\u001b[43mallow_fill\u001b[49m\u001b[38;5;241;43m=\u001b[39;49m\u001b[43mallow_fill\u001b[49m\u001b[43m,\u001b[49m\u001b[43m \u001b[49m\u001b[43mfill_value\u001b[49m\u001b[38;5;241;43m=\u001b[39;49m\u001b[43mfill_value\u001b[49m\n\u001b[0;32m   1309\u001b[0m \u001b[43m\u001b[49m\u001b[43m)\u001b[49m\n\u001b[0;32m   1311\u001b[0m \u001b[38;5;66;03m# Called from three places in managers, all of which satisfy\u001b[39;00m\n\u001b[0;32m   1312\u001b[0m \u001b[38;5;66;03m#  these assertions\u001b[39;00m\n\u001b[0;32m   1313\u001b[0m \u001b[38;5;28;01mif\u001b[39;00m \u001b[38;5;28misinstance\u001b[39m(\u001b[38;5;28mself\u001b[39m, ExtensionBlock):\n\u001b[0;32m   1314\u001b[0m     \u001b[38;5;66;03m# NB: in this case, the 'axis' kwarg will be ignored in the\u001b[39;00m\n\u001b[0;32m   1315\u001b[0m     \u001b[38;5;66;03m#  algos.take_nd call above.\u001b[39;00m\n",
      "File \u001b[1;32m~\\AppData\\Roaming\\Python\\Python312\\site-packages\\pandas\\core\\array_algos\\take.py:117\u001b[0m, in \u001b[0;36mtake_nd\u001b[1;34m(arr, indexer, axis, fill_value, allow_fill)\u001b[0m\n\u001b[0;32m    114\u001b[0m     \u001b[38;5;28;01mreturn\u001b[39;00m arr\u001b[38;5;241m.\u001b[39mtake(indexer, fill_value\u001b[38;5;241m=\u001b[39mfill_value, allow_fill\u001b[38;5;241m=\u001b[39mallow_fill)\n\u001b[0;32m    116\u001b[0m arr \u001b[38;5;241m=\u001b[39m np\u001b[38;5;241m.\u001b[39masarray(arr)\n\u001b[1;32m--> 117\u001b[0m \u001b[38;5;28;01mreturn\u001b[39;00m \u001b[43m_take_nd_ndarray\u001b[49m\u001b[43m(\u001b[49m\u001b[43marr\u001b[49m\u001b[43m,\u001b[49m\u001b[43m \u001b[49m\u001b[43mindexer\u001b[49m\u001b[43m,\u001b[49m\u001b[43m \u001b[49m\u001b[43maxis\u001b[49m\u001b[43m,\u001b[49m\u001b[43m \u001b[49m\u001b[43mfill_value\u001b[49m\u001b[43m,\u001b[49m\u001b[43m \u001b[49m\u001b[43mallow_fill\u001b[49m\u001b[43m)\u001b[49m\n",
      "File \u001b[1;32m~\\AppData\\Roaming\\Python\\Python312\\site-packages\\pandas\\core\\array_algos\\take.py:162\u001b[0m, in \u001b[0;36m_take_nd_ndarray\u001b[1;34m(arr, indexer, axis, fill_value, allow_fill)\u001b[0m\n\u001b[0;32m    157\u001b[0m     out \u001b[38;5;241m=\u001b[39m np\u001b[38;5;241m.\u001b[39mempty(out_shape, dtype\u001b[38;5;241m=\u001b[39mdtype)\n\u001b[0;32m    159\u001b[0m func \u001b[38;5;241m=\u001b[39m _get_take_nd_function(\n\u001b[0;32m    160\u001b[0m     arr\u001b[38;5;241m.\u001b[39mndim, arr\u001b[38;5;241m.\u001b[39mdtype, out\u001b[38;5;241m.\u001b[39mdtype, axis\u001b[38;5;241m=\u001b[39maxis, mask_info\u001b[38;5;241m=\u001b[39mmask_info\n\u001b[0;32m    161\u001b[0m )\n\u001b[1;32m--> 162\u001b[0m \u001b[43mfunc\u001b[49m\u001b[43m(\u001b[49m\u001b[43marr\u001b[49m\u001b[43m,\u001b[49m\u001b[43m \u001b[49m\u001b[43mindexer\u001b[49m\u001b[43m,\u001b[49m\u001b[43m \u001b[49m\u001b[43mout\u001b[49m\u001b[43m,\u001b[49m\u001b[43m \u001b[49m\u001b[43mfill_value\u001b[49m\u001b[43m)\u001b[49m\n\u001b[0;32m    164\u001b[0m \u001b[38;5;28;01mif\u001b[39;00m flip_order:\n\u001b[0;32m    165\u001b[0m     out \u001b[38;5;241m=\u001b[39m out\u001b[38;5;241m.\u001b[39mT\n",
      "\u001b[1;31mKeyboardInterrupt\u001b[0m: "
     ]
    }
   ],
   "source": [
    "df = pd.read_csv(\"houses_Madrid.csv\")\n",
    "print(f\"The length {len(df.index)}\")\n",
    "print(f\"The columns of the database {df.columns}\")\n",
    "df[[\"sq_mt_built\", \"buy_price\"]].plot.scatter(x=\"sq_mt_built\", y=\"buy_price\")\n",
    "df = df[[\"sq_mt_built\", \"buy_price\"]].fillna(False)\n",
    "## FIXME: add here the creation of the training data and test data\n",
    "\n",
    "# the training and test data was already implemented in the next cell but im guessing you meant use a train_test_split()\n",
    "\n",
    "df_shuffled = df.sample(frac=1) # shuffle the rows\n",
    "\n",
    "# X = df_shuffled[\"sq_mt_built\"].to_numpy(dtype=np.float64)\n",
    "# y = df_shuffled[\"buy_price\"].to_numpy(dtype=np.float64)\n",
    "# training_data_x, test_data_x, training_data_y, test_data_y = train_test_split(X, y, test_size=0.2, random_state=42)"
   ]
  },
  {
   "cell_type": "code",
   "execution_count": null,
   "id": "54bf2ec2",
   "metadata": {},
   "outputs": [
    {
     "data": {
      "text/plain": [
       "((16000,), (16000,), (5742,), (5742,))"
      ]
     },
     "execution_count": 5,
     "metadata": {},
     "output_type": "execute_result"
    }
   ],
   "source": [
    "x = df_shuffled[\"sq_mt_built\"].to_numpy(dtype=np.float64)\n",
    "y = df_shuffled[\"buy_price\"].to_numpy(dtype=np.float64)\n",
    "training_data_x = x[:16000]\n",
    "training_data_y = y[:16000]\n",
    "test_data_x = x[16000:]\n",
    "test_data_y = y[16000:]\n",
    "\n",
    "training_data_x.shape, training_data_y.shape, test_data_x.shape, test_data_y.shape"
   ]
  },
  {
   "cell_type": "code",
   "execution_count": null,
   "id": "7d8bfd4d",
   "metadata": {},
   "outputs": [
    {
     "data": {
      "text/plain": [
       "array([ 850000.,  660000., 1023000., ...,  359900.,  449000.,  379900.])"
      ]
     },
     "execution_count": 6,
     "metadata": {},
     "output_type": "execute_result"
    }
   ],
   "source": [
    "training_data_y"
   ]
  },
  {
   "cell_type": "markdown",
   "id": "1c63bf75",
   "metadata": {},
   "source": [
    "## P1: Loss function (10 pts)\n",
    "Implement a root-mean-square error (RMSE) loss function between the prediction $\\hat{y}$ and $y$ value using Python operations. Run some experiments to validate that this works as expected. \n",
    "Then, look up the same in the sklearn library\n",
    "https://scikit-learn.org/stable/modules/classes.html#module-sklearn.metrics\n",
    "and implement it based on what is there. "
   ]
  },
  {
   "cell_type": "code",
   "execution_count": null,
   "id": "66d0d477",
   "metadata": {},
   "outputs": [],
   "source": [
    "# TODO: implement the loss function here using Python math ops and sklearn\n",
    "def loss_RMSE(y, yhat):\n",
    "    return np.sqrt(np.sum((y - yhat) ** 2) / y.shape[0])\n",
    "\n",
    "def loss_RMSE_sk(y, yhat):\n",
    "    return root_mean_squared_error(y, yhat)"
   ]
  },
  {
   "cell_type": "code",
   "execution_count": null,
   "id": "a723623d",
   "metadata": {},
   "outputs": [
    {
     "name": "stdout",
     "output_type": "stream",
     "text": [
      "My RMSE loss function: 0.37883214664778003\n",
      "Scikit-Learn RMSE loss function: 0.37883214664778003\n",
      "Equal: True\n",
      "\n",
      "My RMSE loss function: 0.35798840246179564\n",
      "Scikit-Learn RMSE loss function: 0.35798840246179564\n",
      "Equal: True\n",
      "\n",
      "My RMSE loss function: 0.3673295042313345\n",
      "Scikit-Learn RMSE loss function: 0.3673295042313345\n",
      "Equal: True\n",
      "\n"
     ]
    }
   ],
   "source": [
    "# TODO: Now, run some experiments with your function, with the one taken with sklearn \n",
    "# Compare their outputs.\n",
    "\n",
    "for _ in range(3):\n",
    "    test_y = np.random.rand(20)\n",
    "    test_yhat = np.random.rand(20)\n",
    "    a = loss_RMSE(test_y, test_yhat)\n",
    "    b = loss_RMSE_sk(test_y, test_yhat)\n",
    "\n",
    "    print(f\"My RMSE loss function: {a}\")\n",
    "    print(f\"Scikit-Learn RMSE loss function: {b}\")\n",
    "    print(f\"Equal: {a == b}\\n\")"
   ]
  },
  {
   "cell_type": "markdown",
   "id": "e0548dea",
   "metadata": {},
   "source": [
    "## P2: Implement a linear predictor (10 pts)\n",
    "Implement a function of type ``predict(x, theta) --> y_hat`` which implements a linear model of the type $\\hat{y} = \\theta_1 \\cdot x + \\theta_0$"
   ]
  },
  {
   "cell_type": "code",
   "execution_count": null,
   "id": "1b91956b",
   "metadata": {},
   "outputs": [],
   "source": [
    "# TODO: implement the predictor function here\n",
    "def predict(x, theta):\n",
    "    return theta[1] * x + theta[0]"
   ]
  },
  {
   "cell_type": "code",
   "execution_count": null,
   "id": "7af53924",
   "metadata": {},
   "outputs": [
    {
     "name": "stdout",
     "output_type": "stream",
     "text": [
      "Parameters: [1 1]\n",
      "Input x: [76 61 60]\n",
      "Output y: [77 62 61]\n",
      "\n",
      "Parameters: [4 4]\n",
      "Input x: [64  0 94]\n",
      "Output y: [260   4 380]\n",
      "\n",
      "Parameters: [1 5]\n",
      "Input x: [46 97 65]\n",
      "Output y: [231 486 326]\n",
      "\n"
     ]
    }
   ],
   "source": [
    "# TODO: now, run some experiments with it\n",
    "\n",
    "for _ in range(3):\n",
    "    # used randint to make it easier to review\n",
    "    theta = np.random.randint(1, 10, 2)\n",
    "    test_x = np.random.randint(0, 100, 3)\n",
    "    test_y = predict(test_x, theta)\n",
    "\n",
    "    print(f\"Parameters: {theta}\")\n",
    "    print(f\"Input x: {test_x}\")\n",
    "    print(f\"Output y: {test_y}\\n\")"
   ]
  },
  {
   "cell_type": "markdown",
   "id": "a5fcd1c6",
   "metadata": {},
   "source": [
    "## P3: Implement a \"grid search\" function (20 pts)\n",
    "Implement a function grid_search() which returns an estimate of the best $\\theta$ by trying out all the combinations of possibilities on a grid and returning the values that give you the most values. \n",
    "gridx and gridy define the range of numbers that we want to explore. For instance, grid0 might be [0, 0.25, 0.5, 0.75, 1.0] "
   ]
  },
  {
   "cell_type": "code",
   "execution_count": null,
   "id": "9663e31d",
   "metadata": {},
   "outputs": [],
   "source": [
    "# TODO: implement the grid search function here \n",
    "def grid_search(training_data_x, training_data_y, grid0, grid1):\n",
    "    thetas = np.meshgrid(grid0, grid1)\n",
    "    theta_pairs = np.stack(thetas, axis=-1)\n",
    "    loss = np.apply_along_axis(lambda theta: loss_RMSE(training_data_y, predict(training_data_x, theta)), 2, theta_pairs)\n",
    "    \n",
    "    best_idx = np.unravel_index(np.argmin(loss), loss.shape)\n",
    "    return [thetas[0][best_idx], thetas[1][best_idx]]\n",
    "    \n",
    "# grid_search(training_data_x, training_data_y, np.array([0, 0.25, 0.5, 0.75, 1.0]), np.array([0, 0.25, 0.5, 0.75, 1.0]))\n",
    "# grid_search(np.array([2, 4, 6]), np.array([2, 4, 6]), np.array([0, 0.25, 0.5, 0.75, 1.0]), np.array([0, 0.25, 0.5, 0.75, 1.0]))"
   ]
  },
  {
   "cell_type": "code",
   "execution_count": null,
   "id": "65e10363",
   "metadata": {},
   "outputs": [
    {
     "name": "stdout",
     "output_type": "stream",
     "text": [
      "Best parameters: [10000.0, 4400.0]\n",
      "Train Loss: 513007.3032687295 | Test Loss: 489598.39780057577\n",
      "Training Time: 0.12909793853759766\n"
     ]
    }
   ],
   "source": [
    "# TODO: run some experiments with grid_search\n",
    "# Define some grid values. Train it on the data set. Test it on the test set. \n",
    "# Print the loss on the data set and the test set. Measure and print how long the training takes.\n",
    "\n",
    "def eval(theta):\n",
    "    train_loss = loss_RMSE(training_data_y, predict(training_data_x, theta))\n",
    "    test_loss = loss_RMSE(test_data_y, predict(test_data_x, theta))\n",
    "\n",
    "    print(f\"Best parameters: {theta}\")\n",
    "    print(f\"Train Loss: {train_loss} | Test Loss: {test_loss}\")\n",
    "    print(f\"Training Time: {train_time}\")\n",
    "\n",
    "    return test_loss\n",
    "\n",
    "grid0 = np.linspace(-5000, 10000, 51)\n",
    "grid1 = np.linspace(0, 10000, 51)\n",
    "\n",
    "start_time = time.time()\n",
    "grid_search_theta = grid_search(training_data_x, training_data_y, grid0, grid1)\n",
    "end_time = time.time()\n",
    "train_time = end_time - start_time\n",
    "\n",
    "grid_search_loss = eval(grid_search_theta);"
   ]
  },
  {
   "cell_type": "code",
   "execution_count": null,
   "id": "716ed9d9",
   "metadata": {},
   "outputs": [
    {
     "name": "stdout",
     "output_type": "stream",
     "text": [
      "Best parameters: [9500.0, 4419.0]\n",
      "Train Loss: 512997.1461786491 | Test Loss: 489559.8761533822\n",
      "Training Time: 0.4400472640991211\n"
     ]
    }
   ],
   "source": [
    "# TODO: repeat the experimentation from above with different grids. \n",
    "# Finally, print the grid that provides the best value while still running faster \n",
    "# than 10 seconds.\n",
    "\n",
    "grid0 = np.linspace(0, 9500, 101)\n",
    "grid1 = np.linspace(4400, 4500, 101)\n",
    "\n",
    "start_time = time.time()\n",
    "grid_search_theta = grid_search(training_data_x, training_data_y, grid0, grid1)\n",
    "end_time = time.time()\n",
    "train_time = end_time - start_time\n",
    "\n",
    "eval(grid_search_theta);"
   ]
  },
  {
   "cell_type": "markdown",
   "id": "4c46a9f4",
   "metadata": {},
   "source": [
    "## P4: Implement a random search function (20 pts)\n",
    "Implement a function that returns the estimate for the best $\\theta$ by trying out random \n",
    "$\\theta=[\\theta_0, \\theta_1]$ values, and returning the one that minimizes the error on the training set passed to it. The number of tries is described in the ``trials`` parameter."
   ]
  },
  {
   "cell_type": "code",
   "execution_count": null,
   "id": "cc373403",
   "metadata": {},
   "outputs": [],
   "source": [
    "# TODO: implement the random search function here \n",
    "def random(training_data_x, training_data_y, trials):\n",
    "    thetas = np.random.uniform(0, 10000, (trials, 2))\n",
    "    loss = np.apply_along_axis(lambda theta: loss_RMSE(training_data_y, predict(training_data_x, theta)), 1, thetas)\n",
    "    \n",
    "    best_idx = np.argmin(loss)\n",
    "    return thetas[best_idx]"
   ]
  },
  {
   "cell_type": "code",
   "execution_count": null,
   "id": "294dde6b",
   "metadata": {},
   "outputs": [
    {
     "name": "stdout",
     "output_type": "stream",
     "text": [
      "Best parameters: [9756.20627866 4419.41301437]\n",
      "Train Loss: 512996.69355062686 | Test Loss: 489563.66952502646\n",
      "Training Time: 0.14556550979614258\n"
     ]
    }
   ],
   "source": [
    "# TODO: run some experiments with random_search\n",
    "# Choose some value for trial. Train it on the data set. Test it on the test set. \n",
    "# Print the loss on the data set and the test set. Measure and print how long the training takes.\n",
    "\n",
    "trials = 3000\n",
    "\n",
    "start_time = time.time()\n",
    "random_search_theta = random(training_data_x, training_data_y, trials)\n",
    "end_time = time.time()\n",
    "train_time = end_time - start_time\n",
    "\n",
    "random_search_loss = eval(random_search_theta)"
   ]
  },
  {
   "cell_type": "markdown",
   "id": "c5c0d4e8",
   "metadata": {},
   "source": [
    "## P5: Using the sklearn library (40 pts)\n",
    "\n",
    "Use ``sklearn.linear_model.LinearRegression`` to solve the same problem you previously solved using the grid search and random search.\n",
    "\n",
    "Compare the returned values with what you have achieved. Compare the parameters that had been found to the parameters you have found. Compare the speed. "
   ]
  },
  {
   "cell_type": "code",
   "execution_count": null,
   "id": "136e4f63",
   "metadata": {},
   "outputs": [
    {
     "name": "stdout",
     "output_type": "stream",
     "text": [
      "Best parameters: [11978.477134505985, 4409.690839178104]\n",
      "Train Loss: 512994.402565994 | Test Loss: 489611.5440268454\n",
      "Training Time: 0.02000117301940918\n"
     ]
    }
   ],
   "source": [
    "# TODO: Implement here\n",
    "model = LinearRegression()\n",
    "\n",
    "start_time = time.time()\n",
    "model.fit(training_data_x.reshape(-1, 1), training_data_y)\n",
    "end_time = time.time()\n",
    "train_time = end_time - start_time\n",
    "\n",
    "sklearn_theta = [model.intercept_, model.coef_[0]]\n",
    "sklearn_loss = eval(sklearn_theta)"
   ]
  },
  {
   "cell_type": "code",
   "execution_count": null,
   "id": "1268d33c",
   "metadata": {},
   "outputs": [
    {
     "name": "stdout",
     "output_type": "stream",
     "text": [
      "Grid Search:\n",
      "Loss: 489598.39780057577\n",
      "Parameters: [9500.0, 4419.0]\n",
      "\n",
      "Random Search:\n",
      "Loss: 489563.66952502646\n",
      "Parameters: [9756.20627866 4419.41301437]\n",
      "\n",
      "Scikit-Learn Linear Regression Model:\n",
      "Loss: 489611.5440268454\n",
      "Parameters: [11978.477134505985, 4409.690839178104]\n",
      "\n",
      "Input: 70.0\n",
      "Grid Search Output: 318830.0\n",
      "Random Search Output: 319115.1172843117\n",
      "Scikit-Learn Linear Regression Model: 320656.8358769733\n",
      "Ground Truth Output: 130000.0\n"
     ]
    }
   ],
   "source": [
    "# TODO: Run performance experiments here. \n",
    "print('Grid Search:')\n",
    "print(f'Loss: {grid_search_loss}')\n",
    "print(f'Parameters: {grid_search_theta}\\n')\n",
    "print('Random Search:')\n",
    "print(f'Loss: {random_search_loss}')\n",
    "print(f'Parameters: {random_search_theta}\\n')\n",
    "print('Scikit-Learn Linear Regression:')\n",
    "print(f'Loss: {sklearn_loss}')\n",
    "print(f'Parameters: {sklearn_theta}\\n')\n",
    "\n",
    "x, y = test_data_x[0], test_data_y[0]\n",
    "grid_search_pred = predict(x, grid_search_theta)\n",
    "random_search_pred = predict(x, random_search_theta)\n",
    "sklearn_pred = predict(x, sklearn_theta)\n",
    "\n",
    "print(f'Input: {x}')\n",
    "print(f'Grid Search Output: {grid_search_pred}')\n",
    "print(f'Random Search Output: {random_search_pred}')\n",
    "print(f'Scikit-Learn Linear Regression: {sklearn_pred}')\n",
    "print(f'Ground Truth Output: {y}')"
   ]
  },
  {
   "cell_type": "code",
   "execution_count": 32,
   "id": "8cdd5cbf",
   "metadata": {},
   "outputs": [
    {
     "data": {
      "image/png": "[encoded data removed]",
      "text/plain": [
       "<Figure size 640x480 with 1 Axes>"
      ]
     },
     "metadata": {},
     "output_type": "display_data"
    }
   ],
   "source": [
    "import matplotlib.pyplot as plt\n",
    "\n",
    "x = np.linspace(df[\"sq_mt_built\"].min(), df[\"sq_mt_built\"].max(), 2)\n",
    "grid_search_y = grid_search_theta[1] * x + grid_search_theta[0]\n",
    "random_search_y = random_search_theta[1] * x + random_search_theta[0]\n",
    "sklearn_y = sklearn_theta[1] * x + sklearn_theta[0]\n",
    "df[[\"sq_mt_built\", \"buy_price\"]].plot.scatter(x=\"sq_mt_built\", y=\"buy_price\")\n",
    "plt.plot(x, grid_search_y, color='red', linewidth=2, label=\"Grid Search\")\n",
    "plt.plot(x, random_search_y, color='blue', linewidth=2, label=\"Random Search\")\n",
    "plt.plot(x, sklearn_y, color='green', linewidth=2, label=\"Scikit-Learn Linear Regression\")\n",
    "plt.legend();"
   ]
  },
  {
   "cell_type": "markdown",
   "id": "8b2dc65e",
   "metadata": {},
   "source": [
    "TODO: discuss the performance of the sklearn library implementation, compared to what you implemented."
   ]
  },
  {
   "cell_type": "markdown",
   "id": "43a0f077",
   "metadata": {},
   "source": [
    "Grid or random searches require a range, where a larger range can cover more values but will either require more computation to have the same precision or will lose precision. For this dataset, the intercept of the best fit line has high variance so depending on the dataset shuffle, the best intercept can be anywhere around the range [-2000, 13000]. The sklearn library implementation can handle that range faster and with more precision than a grid or random search. "
   ]
  }
 ],
 "metadata": {
  "kernelspec": {
   "display_name": "base",
   "language": "python",
   "name": "python3"
  },
  "language_info": {
   "codemirror_mode": {
    "name": "ipython",
    "version": 3
   },
   "file_extension": ".py",
   "mimetype": "text/x-python",
   "name": "python",
   "nbconvert_exporter": "python",
   "pygments_lexer": "ipython3",
   "version": "3.12.4"
  }
 },
 "nbformat": 4,
 "nbformat_minor": 5
}
