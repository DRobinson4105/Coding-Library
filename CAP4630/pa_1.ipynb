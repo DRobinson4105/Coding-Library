{
 "cells": [
  {
   "cell_type": "markdown",
   "id": "e24493a4",
   "metadata": {},
   "source": [
    "# **Programming Assignment: Exploring Python, NumPy, and Matplotlib**"
   ]
  },
  {
   "cell_type": "markdown",
   "id": "6c63e68a",
   "metadata": {},
   "source": [
    "**Objective:** This assignment will evaluate your proficiency in Python programming, particularly in using core data structures, NumPy for numerical computations, and Matplotlib for data visualization."
   ]
  },
  {
   "cell_type": "markdown",
   "id": "6fb892df",
   "metadata": {},
   "source": [
    "## **Grading Criteria**"
   ]
  },
  {
   "cell_type": "markdown",
   "id": "79892b77",
   "metadata": {},
   "source": [
    "Part 1: 20 points (10 for Lists and Dictionaries && 10 for String Manipulation)\n",
    "Part 2: 20 Points (10 for Array Creation and Manipulation && 10 for Linear Algebra with Numpy) \n",
    "Part 3: 10 points"
   ]
  },
  {
   "cell_type": "markdown",
   "id": "80396123",
   "metadata": {},
   "source": [
    "## **Submission Instructions**"
   ]
  },
  {
   "cell_type": "markdown",
   "id": "451ca040",
   "metadata": {},
   "source": [
    "Submit your code as a single Jupyter Notebook file (`assignment.ipynb`).\n",
    "Ensure that your notebook is well-commented and that each section is clearly labeled.\n",
    "Include any necessary explanations in markdown cells."
   ]
  },
  {
   "cell_type": "markdown",
   "id": "bf0cd21b",
   "metadata": {},
   "source": [
    "## **Part 1: Python Basics**"
   ]
  },
  {
   "cell_type": "markdown",
   "id": "6232d23a",
   "metadata": {},
   "source": [
    "### 1. **Lists and Dictionaries**"
   ]
  },
  {
   "cell_type": "markdown",
   "id": "a6e27b25",
   "metadata": {},
   "source": [
    "1. Create a list of 10 random integers between 1 and 100 and print it.\n",
    "   You can use randint library\n",
    "   import random\n",
    "   there is a function cals"
   ]
  },
  {
   "cell_type": "code",
   "execution_count": 1,
   "id": "b66255df-65f7-4580-9bfc-ed1d882e1fa5",
   "metadata": {},
   "outputs": [
    {
     "name": "stdout",
     "output_type": "stream",
     "text": [
      "[51, 40, 19, 84, 27, 67, 97, 2, 68, 85]\n"
     ]
    }
   ],
   "source": [
    "from random import randint\n",
    "\n",
    "nums = [randint(1, 100) for _ in range(10)]\n",
    "\n",
    "print(nums)"
   ]
  },
  {
   "cell_type": "markdown",
   "id": "7c72c073-977a-4fc1-9b0b-92d5c117ef92",
   "metadata": {},
   "source": [
    "2. Write a function to find the mean, median, and mode of the above created list.\n",
    "   you can use any library numpy, scipy, statistics or panda"
   ]
  },
  {
   "cell_type": "code",
   "execution_count": 2,
   "id": "0a4f0ec3-54ea-409a-88f6-c14a68ab899c",
   "metadata": {},
   "outputs": [
    {
     "name": "stdout",
     "output_type": "stream",
     "text": [
      "{'mean': 54, 'median': 59.0, 'mode': 51}\n"
     ]
    }
   ],
   "source": [
    "from statistics import mean, median, mode\n",
    "\n",
    "def get_stats(nums: list[int]) -> dict[str, float]:\n",
    "    \"\"\"\n",
    "    Calculates the mean, median, and mode of a list of numbers.\n",
    "\n",
    "    Args:\n",
    "        nums (list[int]): The list of numbers.\n",
    "\n",
    "    Returns:\n",
    "        dict[str, float]: A dictionary containing the mean, median, and mode of the list of numbers.\n",
    "    \"\"\"\n",
    "\n",
    "    return {\"mean\": mean(nums), \"median\": median(nums), \"mode\": mode(nums)}\n",
    "\n",
    "print(get_stats(nums))"
   ]
  },
  {
   "cell_type": "markdown",
   "id": "013a9d73-3fe5-4116-97b5-304b4a4aa27c",
   "metadata": {},
   "source": [
    "3. Create a dictionary from the created list where keys are the elements and values are their squares.\n",
    "   #Save it in \"squared_dict\" which is being used in following block of code."
   ]
  },
  {
   "cell_type": "code",
   "execution_count": 3,
   "id": "18f0f4ad-0de5-45f8-b15d-486a32c6ba99",
   "metadata": {},
   "outputs": [
    {
     "name": "stdout",
     "output_type": "stream",
     "text": [
      "{51: 2601, 40: 1600, 19: 361, 84: 7056, 27: 729, 67: 4489, 97: 9409, 2: 4, 68: 4624, 85: 7225}\n"
     ]
    }
   ],
   "source": [
    "squared_dict = {x: x * x for x in nums}\n",
    "\n",
    "print(squared_dict)"
   ]
  },
  {
   "cell_type": "markdown",
   "id": "3ecbbb23-b75a-4d35-a37c-3e7c6a403d5d",
   "metadata": {},
   "source": [
    "4. Implement a function to find the key with the maximum value in the dictionary."
   ]
  },
  {
   "cell_type": "code",
   "execution_count": 4,
   "id": "c1cbad0e-9b7d-4371-9e35-6a9f9438c6a8",
   "metadata": {},
   "outputs": [
    {
     "name": "stdout",
     "output_type": "stream",
     "text": [
      "97\n"
     ]
    }
   ],
   "source": [
    "def find_max_value_key(squared_dict):\n",
    "    # Find the key with the maximum value in the dictionary\n",
    "    # write you code here\n",
    "    max_key = max(squared_dict, key=squared_dict.get)\n",
    "    \n",
    "    return max_key\n",
    "max_key = find_max_value_key(squared_dict)\n",
    "print(max_key)"
   ]
  },
  {
   "cell_type": "markdown",
   "id": "7a3253fe",
   "metadata": {},
   "source": [
    "### 2. **String Manipulation**"
   ]
  },
  {
   "cell_type": "markdown",
   "id": "836e049e",
   "metadata": {},
   "source": [
    "1. Write a function to reverse a string and check if it is a palindrome.\n",
    "   write you name in example_string_2"
   ]
  },
  {
   "cell_type": "code",
   "execution_count": 5,
   "id": "3afdddb1-7a8f-459a-b6ee-d97630b80237",
   "metadata": {},
   "outputs": [
    {
     "name": "stdout",
     "output_type": "stream",
     "text": [
      "madam: True | David: False\n"
     ]
    }
   ],
   "source": [
    "example_string_1 = \"madam\"\n",
    "example_string_2 = \"David\" # write your name in the string\n",
    "#write your code here\n",
    "\n",
    "def is_palindrome(string: str) -> bool:\n",
    "    \"\"\"\n",
    "    Checks if a string is a palindrome.\n",
    "\n",
    "    Args:\n",
    "        string (str): The string.\n",
    "\n",
    "    Returns:\n",
    "        bool: True if the string is a palindrome.\n",
    "    \"\"\"\n",
    "\n",
    "    reversed_string = string[::-1]\n",
    "    return string == reversed_string\n",
    "\n",
    "\n",
    "\n",
    "print(f\"{example_string_1}: {is_palindrome(example_string_1)} | {example_string_2}: {is_palindrome(example_string_2)}\")"
   ]
  },
  {
   "cell_type": "markdown",
   "id": "022c0abc-6071-4cbf-93d1-f28c9f6f348d",
   "metadata": {},
   "source": [
    "2. Create a function that counts the number of vowels in a given string.\n",
    "   check with above given strings, example_string_1 and example_string_2 and print the output"
   ]
  },
  {
   "cell_type": "code",
   "execution_count": 6,
   "id": "3a9a47eb-29b9-4ab8-91bb-91492876cf25",
   "metadata": {},
   "outputs": [
    {
     "name": "stdout",
     "output_type": "stream",
     "text": [
      "madam: 2 | David: 2\n"
     ]
    }
   ],
   "source": [
    "def count_vowels(string: str) -> int:\n",
    "    \"\"\"\n",
    "    Counts the number of a vowels in a string.\n",
    "\n",
    "    Args:\n",
    "        string (str): The string.\n",
    "\n",
    "    Returns:\n",
    "        int: The number of vowels in the string.\n",
    "    \"\"\"\n",
    "\n",
    "    vowels = \"aeiouAEIOU\"\n",
    "    return sum(1 for c in string if c in vowels)\n",
    "\n",
    "print(f\"{example_string_1}: {count_vowels(example_string_1)} | {example_string_2}: {count_vowels(example_string_2)}\")"
   ]
  },
  {
   "cell_type": "markdown",
   "id": "48eb5e02",
   "metadata": {},
   "source": [
    "## **Part 2: NumPy Operations**"
   ]
  },
  {
   "cell_type": "markdown",
   "id": "2ffcd433",
   "metadata": {},
   "source": [
    "### 1. **Array Creation and Manipulation**"
   ]
  },
  {
   "cell_type": "markdown",
   "id": "b91b49f5",
   "metadata": {},
   "source": [
    "1. Create a 5x5 NumPy array with random integers between 1 and 100 and print it. "
   ]
  },
  {
   "cell_type": "code",
   "execution_count": 7,
   "id": "6e7b13d3-53a4-4ba6-b5b8-814ec2236796",
   "metadata": {},
   "outputs": [
    {
     "name": "stdout",
     "output_type": "stream",
     "text": [
      "[[68 40 54  3 73]\n",
      " [16 35 43 69 87]\n",
      " [21 24  3  3 16]\n",
      " [48 35 70 97 22]\n",
      " [82 80 48 41 35]]\n"
     ]
    }
   ],
   "source": [
    "import numpy as np\n",
    "\n",
    "arr = np.random.randint(1, 101, size=(5, 5))\n",
    "\n",
    "print(arr)"
   ]
  },
  {
   "cell_type": "markdown",
   "id": "f4769933-bad1-4546-b4c3-214647dd4400",
   "metadata": {},
   "source": [
    "2. Replace all even numbers in the array with -1 and than print the output"
   ]
  },
  {
   "cell_type": "code",
   "execution_count": 8,
   "id": "3d82b59f-1762-4eff-896b-77905a5e3340",
   "metadata": {},
   "outputs": [
    {
     "name": "stdout",
     "output_type": "stream",
     "text": [
      "[[-1 -1 -1  3 73]\n",
      " [-1 35 43 69 87]\n",
      " [21 -1  3  3 -1]\n",
      " [-1 35 -1 97 -1]\n",
      " [-1 -1 -1 41 35]]\n"
     ]
    }
   ],
   "source": [
    "arr[arr % 2 == 0] = -1\n",
    "\n",
    "print(arr)"
   ]
  },
  {
   "cell_type": "markdown",
   "id": "b4a36da5-35ed-4705-a028-79892187c250",
   "metadata": {},
   "source": [
    "3. Calculate the mean and standard deviation of the array elements and than print the output\n",
    "   use numpy library"
   ]
  },
  {
   "cell_type": "code",
   "execution_count": 9,
   "id": "8b8e84c2-5a6d-45a9-b683-29f638ff2cb4",
   "metadata": {},
   "outputs": [
    {
     "name": "stdout",
     "output_type": "stream",
     "text": [
      "arr_mean=21.32 | arr_stdev=30.587213014591573\n"
     ]
    }
   ],
   "source": [
    "arr_mean = arr.mean()\n",
    "arr_stdev = arr.std()\n",
    "\n",
    "print(f\"{arr_mean=} | {arr_stdev=}\")"
   ]
  },
  {
   "cell_type": "markdown",
   "id": "550d6edc-2719-4cba-b710-c14fd9e7ceb2",
   "metadata": {},
   "source": [
    "4. Reshape the array to a 1x25 array and then back to a 5x5 array and than print the output. "
   ]
  },
  {
   "cell_type": "code",
   "execution_count": 10,
   "id": "7e32d3a0-77d0-467c-9995-012d87a6075c",
   "metadata": {},
   "outputs": [
    {
     "name": "stdout",
     "output_type": "stream",
     "text": [
      "(1, 25)\n",
      "(5, 5)\n",
      "[[-1 -1 -1  3 73]\n",
      " [-1 35 43 69 87]\n",
      " [21 -1  3  3 -1]\n",
      " [-1 35 -1 97 -1]\n",
      " [-1 -1 -1 41 35]]\n"
     ]
    }
   ],
   "source": [
    "arr = arr.reshape((1, 25))\n",
    "\n",
    "print(arr.shape)\n",
    "\n",
    "arr = arr.reshape((5, 5))\n",
    "\n",
    "print(arr.shape)\n",
    "\n",
    "print(arr)"
   ]
  },
  {
   "cell_type": "markdown",
   "id": "6c3a8c0b",
   "metadata": {},
   "source": [
    "### 2. **Linear Algebra with NumPy**"
   ]
  },
  {
   "cell_type": "markdown",
   "id": "e820ee8f",
   "metadata": {},
   "source": [
    "1. Create two 3x3 matrices."
   ]
  },
  {
   "cell_type": "code",
   "execution_count": 11,
   "id": "acecfeb0-6e53-46aa-8552-b1a916f3e441",
   "metadata": {},
   "outputs": [
    {
     "name": "stdout",
     "output_type": "stream",
     "text": [
      "[[ 3  4 10]\n",
      " [ 5  8  8]\n",
      " [ 6  3 10]]\n",
      "[[ 7  5 10]\n",
      " [10 10 10]\n",
      " [ 2  4  3]]\n"
     ]
    }
   ],
   "source": [
    "mat1, mat2 = np.random.randint(1, 11, size=(3, 3)), np.random.randint(1, 11, size=(3, 3))\n",
    "\n",
    "print(mat1)\n",
    "print(mat2)"
   ]
  },
  {
   "cell_type": "markdown",
   "id": "ea1ee2c9-b97a-4db2-9605-a6732b8248ec",
   "metadata": {},
   "source": [
    "2. Perform addition of created matrices and print it."
   ]
  },
  {
   "cell_type": "code",
   "execution_count": 12,
   "id": "6be29847-c091-45f5-9c55-18ea3d5039c0",
   "metadata": {},
   "outputs": [
    {
     "name": "stdout",
     "output_type": "stream",
     "text": [
      "[[10  9 20]\n",
      " [15 18 18]\n",
      " [ 8  7 13]]\n"
     ]
    }
   ],
   "source": [
    "mat_sum = mat1 + mat2\n",
    "\n",
    "print(mat_sum)"
   ]
  },
  {
   "cell_type": "markdown",
   "id": "55e389c6-2908-4f87-bc98-1db4b9c42e4f",
   "metadata": {},
   "source": [
    "3. Perform subtraction of created matrices and print the output"
   ]
  },
  {
   "cell_type": "code",
   "execution_count": 13,
   "id": "be6c710c-9f36-4e8d-80e2-3216c268e3f1",
   "metadata": {},
   "outputs": [
    {
     "name": "stdout",
     "output_type": "stream",
     "text": [
      "[[-4 -1  0]\n",
      " [-5 -2 -2]\n",
      " [ 4 -1  7]]\n"
     ]
    }
   ],
   "source": [
    "mat_diff = mat1 - mat2\n",
    "\n",
    "print(mat_diff)"
   ]
  },
  {
   "cell_type": "markdown",
   "id": "7897e5c5-331a-43cc-a788-d819b6c93e28",
   "metadata": {},
   "source": [
    "4. Perform multiplication of created matrices and print the output. "
   ]
  },
  {
   "cell_type": "code",
   "execution_count": 14,
   "id": "66a35d11-a673-40eb-bef9-42155fa99a4c",
   "metadata": {},
   "outputs": [
    {
     "name": "stdout",
     "output_type": "stream",
     "text": [
      "[[ 21  20 100]\n",
      " [ 50  80  80]\n",
      " [ 12  12  30]]\n"
     ]
    }
   ],
   "source": [
    "mat_prod = mat1 * mat2\n",
    "\n",
    "print(mat_prod)"
   ]
  },
  {
   "cell_type": "markdown",
   "id": "e17ef63c-c1dc-4517-b735-033a5466ae43",
   "metadata": {},
   "source": [
    "5. Find the determinant of one of the the matrices."
   ]
  },
  {
   "cell_type": "code",
   "execution_count": 15,
   "id": "83b0c462-99e9-401d-b4f9-457f28b6540d",
   "metadata": {},
   "outputs": [
    {
     "name": "stdout",
     "output_type": "stream",
     "text": [
      "-170.00000000000006\n"
     ]
    }
   ],
   "source": [
    "mat1_det = np.linalg.det(mat1)\n",
    "\n",
    "print(mat1_det)"
   ]
  },
  {
   "cell_type": "markdown",
   "id": "6b6dbaa6-b958-441d-b70d-0804fd3aa3f5",
   "metadata": {},
   "source": [
    "6. Find the inverse of one of the matrices."
   ]
  },
  {
   "cell_type": "code",
   "execution_count": 16,
   "id": "7050cca2-6847-4e9d-974a-570c1a301e69",
   "metadata": {},
   "outputs": [
    {
     "name": "stdout",
     "output_type": "stream",
     "text": [
      "[[-0.125   0.3125 -0.625 ]\n",
      " [-0.125   0.0125  0.375 ]\n",
      " [ 0.25   -0.225   0.25  ]]\n"
     ]
    }
   ],
   "source": [
    "mat2_inv = np.linalg.inv(mat2)\n",
    "\n",
    "print(mat2_inv)"
   ]
  },
  {
   "cell_type": "markdown",
   "id": "e8c1d3e6",
   "metadata": {},
   "source": [
    "## **Part 3: Data Visualization with Matplotlib**"
   ]
  },
  {
   "cell_type": "markdown",
   "id": "9734514d",
   "metadata": {},
   "source": [
    "### 1. **Plotting Basics**"
   ]
  },
  {
   "cell_type": "markdown",
   "id": "aeace7d3-73c0-4103-9b23-6771af906e59",
   "metadata": {},
   "source": [
    "1. Using the data from the sine and cosine waves, create a subplot that shows both plots individually.\n",
    "   Hint_1: you can use np.linspace to generate hundred points from 0 to 2π\n",
    "   Hint_2: use these values of linspace to create sin and cosie values using np.sin() and np.cos()\n",
    "   Hint_3: Use matplotlib library for and make subplots."
   ]
  },
  {
   "cell_type": "code",
   "execution_count": 17,
   "id": "895c04e8-8e5c-4cf2-9761-9ac1f9f76195",
   "metadata": {},
   "outputs": [
    {
     "data": {
      "image/png": "[encoded data removed]",
      "text/plain": [
       "<Figure size 1000x500 with 2 Axes>"
      ]
     },
     "metadata": {},
     "output_type": "display_data"
    }
   ],
   "source": [
    "import matplotlib.pyplot as plt\n",
    "\n",
    "x = np.linspace(0, 2 * np.pi, 100)\n",
    "y_sin = np.sin(x)\n",
    "y_cos = np.cos(x)\n",
    "\n",
    "fig, ax = plt.subplots(1, 2, figsize=(10, 5))\n",
    "\n",
    "# Plot sine wave\n",
    "ax[0].plot(x, y_sin, label=\"sin(x)\", color=\"blue\")\n",
    "ax[0].set_title(\"Sine Wave\")\n",
    "ax[0].legend()\n",
    "\n",
    "# Plot cosine wave\n",
    "ax[1].plot(x, y_cos, label=\"cos(x)\", color=\"blue\")\n",
    "ax[1].set_title(\"Cosine Wave\")\n",
    "ax[1].legend()\n",
    "\n",
    "plt.show()"
   ]
  },
  {
   "cell_type": "markdown",
   "id": "8e7004c8",
   "metadata": {},
   "source": [
    "2. Plot a scatter plot of 100 random points with varying sizes and colors. Include gridlines and labels for the axes. Use numpy and Matplotlib library."
   ]
  },
  {
   "cell_type": "code",
   "execution_count": 18,
   "id": "88e769e8-45df-42f7-b624-6024d9e3a21c",
   "metadata": {},
   "outputs": [
    {
     "data": {
      "image/png": "[encoded data removed]",
      "text/plain": [
       "<Figure size 500x500 with 1 Axes>"
      ]
     },
     "metadata": {},
     "output_type": "display_data"
    }
   ],
   "source": [
    "x = np.random.rand(100)\n",
    "y = np.random.rand(100)\n",
    "sizes = np.random.randint(10, 100, 100)\n",
    "colors = np.random.rand(100)\n",
    "\n",
    "fig, ax = plt.subplots(figsize=(5, 5))\n",
    "\n",
    "ax.scatter(x, y, s=sizes, c=colors)\n",
    "ax.grid(True)\n",
    "\n",
    "plt.show()"
   ]
  }
 ],
 "metadata": {
  "kernelspec": {
   "display_name": "Python 3 (ipykernel)",
   "language": "python",
   "name": "python3"
  },
  "language_info": {
   "codemirror_mode": {
    "name": "ipython",
    "version": 3
   },
   "file_extension": ".py",
   "mimetype": "text/x-python",
   "name": "python",
   "nbconvert_exporter": "python",
   "pygments_lexer": "ipython3",
   "version": "3.12.4"
  }
 },
 "nbformat": 4,
 "nbformat_minor": 5
}
